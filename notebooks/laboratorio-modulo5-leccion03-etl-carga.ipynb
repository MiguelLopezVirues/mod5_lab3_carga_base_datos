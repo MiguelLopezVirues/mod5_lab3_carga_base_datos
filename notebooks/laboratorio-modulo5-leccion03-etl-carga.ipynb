{
 "cells": [
  {
   "cell_type": "markdown",
   "metadata": {},
   "source": [
    "<div style=\"text-align: center;\">\n",
    "  <img src=\"https://github.com/Hack-io-Data/Imagenes/blob/main/01-LogosHackio/logo_amarillo@4x.png?raw=true\" alt=\"esquema\" />\n",
    "</div>"
   ]
  },
  {
   "cell_type": "markdown",
   "metadata": {},
   "source": [
    "\n",
    "# Laboratorio ETL: Análisis del Sistema Energético en España\n",
    "\n",
    "## Objetivo\n",
    "\n",
    "Durante todos los laboratorios de esta semana realizarás un proceso completo de ETL para analizar la relación entre la demanda, el consumo y la generación eléctrica en diferentes provincias de España a lo largo de un año. Además, complementarán este análisis con datos demográficos y económicos extraídos del Instituto Nacional de Estadística (INE). El **objetivo principal** del análisis es **examinar cómo la demanda, el consumo y la generación eléctrica en diferentes provincias de España a lo largo de los años están influenciados por factores demográficos y económicos, como la población y el PIB provincial**. El análisis busca identificar patrones y correlaciones entre estas variables para comprender mejor las dinámicas energéticas regionales y su relación con el desarrollo socioeconómico en España.\n",
    "\n",
    "Antes de realizar el análisis, vamos a definir las hipótesis con las que vamos a trabajar, las cuales definirán todo tu análisis y planteamiento de los laboratorios: \n",
    "\n",
    "- **Hipótesis 1: La demanda eléctrica está correlacionada con la población de la provincia.** Provincias con mayor población tienden a tener una mayor demanda eléctrica.\n",
    "  \n",
    "- **Hipótesis 2: El crecimiento económico (medido por el PIB) está correlacionado con el consumo eléctrico.** Las provincias con un PIB más alto o en crecimiento experimentan un mayor consumo de energía.\n",
    "\n",
    "- **Hipótesis 3: La proporción de generación renovable está relacionada con factores económicos o geográficos.** Provincias con un mayor desarrollo económico o con condiciones geográficas favorables (como más horas de sol o viento) tienden a generar más energía renovable.\n",
    "\n",
    "\n",
    "## Tareas Laboratorio Carga\n",
    "\n",
    "En este laboratorio, tu objetivo será diseñar la estructura de una base de datos relacional, crear las tablas necesarias y cargar en ellas los datos limpios y preparados que obtuviste en el laboratorio anterior. Trabajarás con datos relacionados con la demanda, generación eléctrica, y variables socioeconómicas, almacenándolos de manera eficiente para facilitar el análisis y las consultas posteriores.\n",
    "\n",
    "\n",
    "- **Diseño de la Base de Datos:** Define una estructura de base de datos relacional que sea adecuada para almacenar los datos de demanda eléctrica, generación eléctrica, población y PIB por provincia.\n",
    "\n",
    "- **Creación de la Base de Datos:** Escribe los scripts SQL necesarios para crear las tablas definidas en la estructura de la base de datos. Asegúrate de definir correctamente los tipos de datos y las restricciones (e.g., `NOT NULL`, `UNIQUE`).\n",
    "\n",
    "- **Carga de Datos en la Base de Datos:** Utiliza Python para cargar los datos limpios y preparados en las tablas de la base de datos. Asegúrate de que los datos se insertan correctamente, manejando posibles errores o inconsistencias en los datos.\n"
   ]
  },
  {
   "cell_type": "markdown",
   "metadata": {},
   "source": [
    "### 0. Imports"
   ]
  },
  {
   "cell_type": "code",
   "execution_count": 1,
   "metadata": {},
   "outputs": [],
   "source": [
    "import pandas as pd\n",
    "\n",
    "import sys\n",
    "sys.path.append(\"..\")\n",
    "\n",
    "from src.support_database_connect import establecer_conn, crear_db\n",
    "import src.support_database_connect as sdc"
   ]
  },
  {
   "cell_type": "markdown",
   "metadata": {},
   "source": [
    "### 1. Data import"
   ]
  },
  {
   "cell_type": "code",
   "execution_count": 2,
   "metadata": {},
   "outputs": [],
   "source": [
    "demanda_evolucion_df = pd.read_csv(\"../../Lab 2/data/processed/demanda_evolucion.csv\",index_col=0)\n",
    "generacion_renovables_df = pd.read_csv(\"../../Lab 2/data/processed/generacion_renovables.csv\",index_col=0)\n",
    "demograficos_INE_df = pd.read_csv(\"../../Lab 2/data/processed/demographic_INE.csv\",index_col=0)\n",
    "economicos_INE_df = pd.read_csv(\"../../Lab 2/data/processed/economic_INE.csv\",index_col=0)"
   ]
  },
  {
   "cell_type": "markdown",
   "metadata": {},
   "source": [
    "### 2. Data re-exploration"
   ]
  },
  {
   "cell_type": "code",
   "execution_count": 3,
   "metadata": {},
   "outputs": [
    {
     "data": {
      "text/html": [
       "<div>\n",
       "<style scoped>\n",
       "    .dataframe tbody tr th:only-of-type {\n",
       "        vertical-align: middle;\n",
       "    }\n",
       "\n",
       "    .dataframe tbody tr th {\n",
       "        vertical-align: top;\n",
       "    }\n",
       "\n",
       "    .dataframe thead th {\n",
       "        text-align: right;\n",
       "    }\n",
       "</style>\n",
       "<table border=\"1\" class=\"dataframe\">\n",
       "  <thead>\n",
       "    <tr style=\"text-align: right;\">\n",
       "      <th></th>\n",
       "      <th>value</th>\n",
       "      <th>datetime</th>\n",
       "      <th>ccaa</th>\n",
       "      <th>cod_ccaa</th>\n",
       "      <th>outliers</th>\n",
       "    </tr>\n",
       "  </thead>\n",
       "  <tbody>\n",
       "    <tr>\n",
       "      <th>0</th>\n",
       "      <td>17830.239</td>\n",
       "      <td>2018-12-31 23:00:00</td>\n",
       "      <td>Ceuta</td>\n",
       "      <td>8744</td>\n",
       "      <td>0.0</td>\n",
       "    </tr>\n",
       "    <tr>\n",
       "      <th>1</th>\n",
       "      <td>16019.527</td>\n",
       "      <td>2019-01-31 23:00:00</td>\n",
       "      <td>Ceuta</td>\n",
       "      <td>8744</td>\n",
       "      <td>0.0</td>\n",
       "    </tr>\n",
       "    <tr>\n",
       "      <th>2</th>\n",
       "      <td>16598.235</td>\n",
       "      <td>2019-02-28 23:00:00</td>\n",
       "      <td>Ceuta</td>\n",
       "      <td>8744</td>\n",
       "      <td>0.0</td>\n",
       "    </tr>\n",
       "    <tr>\n",
       "      <th>3</th>\n",
       "      <td>15221.094</td>\n",
       "      <td>2019-03-31 22:00:00</td>\n",
       "      <td>Ceuta</td>\n",
       "      <td>8744</td>\n",
       "      <td>0.0</td>\n",
       "    </tr>\n",
       "    <tr>\n",
       "      <th>4</th>\n",
       "      <td>16753.540</td>\n",
       "      <td>2019-04-30 22:00:00</td>\n",
       "      <td>Ceuta</td>\n",
       "      <td>8744</td>\n",
       "      <td>0.0</td>\n",
       "    </tr>\n",
       "  </tbody>\n",
       "</table>\n",
       "</div>"
      ],
      "text/plain": [
       "       value             datetime   ccaa  cod_ccaa  outliers\n",
       "0  17830.239  2018-12-31 23:00:00  Ceuta      8744       0.0\n",
       "1  16019.527  2019-01-31 23:00:00  Ceuta      8744       0.0\n",
       "2  16598.235  2019-02-28 23:00:00  Ceuta      8744       0.0\n",
       "3  15221.094  2019-03-31 22:00:00  Ceuta      8744       0.0\n",
       "4  16753.540  2019-04-30 22:00:00  Ceuta      8744       0.0"
      ]
     },
     "execution_count": 3,
     "metadata": {},
     "output_type": "execute_result"
    }
   ],
   "source": [
    "demanda_evolucion_df.head()"
   ]
  },
  {
   "cell_type": "code",
   "execution_count": 4,
   "metadata": {},
   "outputs": [
    {
     "data": {
      "text/html": [
       "<div>\n",
       "<style scoped>\n",
       "    .dataframe tbody tr th:only-of-type {\n",
       "        vertical-align: middle;\n",
       "    }\n",
       "\n",
       "    .dataframe tbody tr th {\n",
       "        vertical-align: top;\n",
       "    }\n",
       "\n",
       "    .dataframe thead th {\n",
       "        text-align: right;\n",
       "    }\n",
       "</style>\n",
       "<table border=\"1\" class=\"dataframe\">\n",
       "  <thead>\n",
       "    <tr style=\"text-align: right;\">\n",
       "      <th></th>\n",
       "      <th>value</th>\n",
       "      <th>percentage</th>\n",
       "      <th>datetime</th>\n",
       "      <th>type</th>\n",
       "      <th>ccaa</th>\n",
       "      <th>cod_ccaa</th>\n",
       "      <th>type_ccaa_outliers</th>\n",
       "    </tr>\n",
       "  </thead>\n",
       "  <tbody>\n",
       "    <tr>\n",
       "      <th>0</th>\n",
       "      <td>5.053</td>\n",
       "      <td>0.009113</td>\n",
       "      <td>2018-12-31 23:00:00</td>\n",
       "      <td>Solar fotovoltaica</td>\n",
       "      <td>Melilla</td>\n",
       "      <td>8745</td>\n",
       "      <td>0</td>\n",
       "    </tr>\n",
       "    <tr>\n",
       "      <th>1</th>\n",
       "      <td>5.526</td>\n",
       "      <td>0.011159</td>\n",
       "      <td>2019-01-31 23:00:00</td>\n",
       "      <td>Solar fotovoltaica</td>\n",
       "      <td>Melilla</td>\n",
       "      <td>8745</td>\n",
       "      <td>0</td>\n",
       "    </tr>\n",
       "    <tr>\n",
       "      <th>2</th>\n",
       "      <td>6.561</td>\n",
       "      <td>0.012039</td>\n",
       "      <td>2019-02-28 23:00:00</td>\n",
       "      <td>Solar fotovoltaica</td>\n",
       "      <td>Melilla</td>\n",
       "      <td>8745</td>\n",
       "      <td>0</td>\n",
       "    </tr>\n",
       "    <tr>\n",
       "      <th>3</th>\n",
       "      <td>7.925</td>\n",
       "      <td>0.016925</td>\n",
       "      <td>2019-03-31 22:00:00</td>\n",
       "      <td>Solar fotovoltaica</td>\n",
       "      <td>Melilla</td>\n",
       "      <td>8745</td>\n",
       "      <td>0</td>\n",
       "    </tr>\n",
       "    <tr>\n",
       "      <th>4</th>\n",
       "      <td>8.683</td>\n",
       "      <td>0.016244</td>\n",
       "      <td>2019-04-30 22:00:00</td>\n",
       "      <td>Solar fotovoltaica</td>\n",
       "      <td>Melilla</td>\n",
       "      <td>8745</td>\n",
       "      <td>0</td>\n",
       "    </tr>\n",
       "  </tbody>\n",
       "</table>\n",
       "</div>"
      ],
      "text/plain": [
       "   value  percentage             datetime                type     ccaa  \\\n",
       "0  5.053    0.009113  2018-12-31 23:00:00  Solar fotovoltaica  Melilla   \n",
       "1  5.526    0.011159  2019-01-31 23:00:00  Solar fotovoltaica  Melilla   \n",
       "2  6.561    0.012039  2019-02-28 23:00:00  Solar fotovoltaica  Melilla   \n",
       "3  7.925    0.016925  2019-03-31 22:00:00  Solar fotovoltaica  Melilla   \n",
       "4  8.683    0.016244  2019-04-30 22:00:00  Solar fotovoltaica  Melilla   \n",
       "\n",
       "   cod_ccaa  type_ccaa_outliers  \n",
       "0      8745                   0  \n",
       "1      8745                   0  \n",
       "2      8745                   0  \n",
       "3      8745                   0  \n",
       "4      8745                   0  "
      ]
     },
     "execution_count": 4,
     "metadata": {},
     "output_type": "execute_result"
    }
   ],
   "source": [
    "generacion_renovables_df.head()"
   ]
  },
  {
   "cell_type": "code",
   "execution_count": 5,
   "metadata": {},
   "outputs": [
    {
     "data": {
      "text/html": [
       "<div>\n",
       "<style scoped>\n",
       "    .dataframe tbody tr th:only-of-type {\n",
       "        vertical-align: middle;\n",
       "    }\n",
       "\n",
       "    .dataframe tbody tr th {\n",
       "        vertical-align: top;\n",
       "    }\n",
       "\n",
       "    .dataframe thead th {\n",
       "        text-align: right;\n",
       "    }\n",
       "</style>\n",
       "<table border=\"1\" class=\"dataframe\">\n",
       "  <thead>\n",
       "    <tr style=\"text-align: right;\">\n",
       "      <th></th>\n",
       "      <th>provinces</th>\n",
       "      <th>age</th>\n",
       "      <th>nationality</th>\n",
       "      <th>gender</th>\n",
       "      <th>year</th>\n",
       "      <th>total</th>\n",
       "      <th>total.1</th>\n",
       "      <th>cod_province</th>\n",
       "    </tr>\n",
       "  </thead>\n",
       "  <tbody>\n",
       "    <tr>\n",
       "      <th>0</th>\n",
       "      <td>Albacete</td>\n",
       "      <td>0-15 años</td>\n",
       "      <td>Españoles</td>\n",
       "      <td>Hombres</td>\n",
       "      <td>2021</td>\n",
       "      <td>27.304</td>\n",
       "      <td>27304</td>\n",
       "      <td>2</td>\n",
       "    </tr>\n",
       "    <tr>\n",
       "      <th>1</th>\n",
       "      <td>Albacete</td>\n",
       "      <td>0-15 años</td>\n",
       "      <td>Españoles</td>\n",
       "      <td>Hombres</td>\n",
       "      <td>2020</td>\n",
       "      <td>27.979</td>\n",
       "      <td>27979</td>\n",
       "      <td>2</td>\n",
       "    </tr>\n",
       "    <tr>\n",
       "      <th>2</th>\n",
       "      <td>Albacete</td>\n",
       "      <td>0-15 años</td>\n",
       "      <td>Españoles</td>\n",
       "      <td>Hombres</td>\n",
       "      <td>2019</td>\n",
       "      <td>28.513</td>\n",
       "      <td>28513</td>\n",
       "      <td>2</td>\n",
       "    </tr>\n",
       "    <tr>\n",
       "      <th>3</th>\n",
       "      <td>Albacete</td>\n",
       "      <td>0-15 años</td>\n",
       "      <td>Españoles</td>\n",
       "      <td>Mujeres</td>\n",
       "      <td>2021</td>\n",
       "      <td>25.547</td>\n",
       "      <td>25547</td>\n",
       "      <td>2</td>\n",
       "    </tr>\n",
       "    <tr>\n",
       "      <th>4</th>\n",
       "      <td>Albacete</td>\n",
       "      <td>0-15 años</td>\n",
       "      <td>Españoles</td>\n",
       "      <td>Mujeres</td>\n",
       "      <td>2020</td>\n",
       "      <td>25.953</td>\n",
       "      <td>25953</td>\n",
       "      <td>2</td>\n",
       "    </tr>\n",
       "  </tbody>\n",
       "</table>\n",
       "</div>"
      ],
      "text/plain": [
       "  provinces        age nationality   gender  year   total  total.1  \\\n",
       "0  Albacete  0-15 años   Españoles  Hombres  2021  27.304    27304   \n",
       "1  Albacete  0-15 años   Españoles  Hombres  2020  27.979    27979   \n",
       "2  Albacete  0-15 años   Españoles  Hombres  2019  28.513    28513   \n",
       "3  Albacete  0-15 años   Españoles  Mujeres  2021  25.547    25547   \n",
       "4  Albacete  0-15 años   Españoles  Mujeres  2020  25.953    25953   \n",
       "\n",
       "   cod_province  \n",
       "0             2  \n",
       "1             2  \n",
       "2             2  \n",
       "3             2  \n",
       "4             2  "
      ]
     },
     "execution_count": 5,
     "metadata": {},
     "output_type": "execute_result"
    }
   ],
   "source": [
    "demograficos_INE_df.head(5)"
   ]
  },
  {
   "cell_type": "code",
   "execution_count": 6,
   "metadata": {},
   "outputs": [
    {
     "data": {
      "text/html": [
       "<div>\n",
       "<style scoped>\n",
       "    .dataframe tbody tr th:only-of-type {\n",
       "        vertical-align: middle;\n",
       "    }\n",
       "\n",
       "    .dataframe tbody tr th {\n",
       "        vertical-align: top;\n",
       "    }\n",
       "\n",
       "    .dataframe thead th {\n",
       "        text-align: right;\n",
       "    }\n",
       "</style>\n",
       "<table border=\"1\" class=\"dataframe\">\n",
       "  <thead>\n",
       "    <tr style=\"text-align: right;\">\n",
       "      <th></th>\n",
       "      <th>provinces</th>\n",
       "      <th>activity</th>\n",
       "      <th>period</th>\n",
       "      <th>total</th>\n",
       "      <th>cod_province</th>\n",
       "    </tr>\n",
       "  </thead>\n",
       "  <tbody>\n",
       "    <tr>\n",
       "      <th>0</th>\n",
       "      <td>Albacete</td>\n",
       "      <td>producto interior bruto a precios de mercado</td>\n",
       "      <td>2021</td>\n",
       "      <td>8663814</td>\n",
       "      <td>2</td>\n",
       "    </tr>\n",
       "    <tr>\n",
       "      <th>1</th>\n",
       "      <td>Albacete</td>\n",
       "      <td>producto interior bruto a precios de mercado</td>\n",
       "      <td>2020</td>\n",
       "      <td>7855556</td>\n",
       "      <td>2</td>\n",
       "    </tr>\n",
       "    <tr>\n",
       "      <th>2</th>\n",
       "      <td>Albacete</td>\n",
       "      <td>producto interior bruto a precios de mercado</td>\n",
       "      <td>2019</td>\n",
       "      <td>8475070</td>\n",
       "      <td>2</td>\n",
       "    </tr>\n",
       "    <tr>\n",
       "      <th>3</th>\n",
       "      <td>Alicante/Alacant</td>\n",
       "      <td>producto interior bruto a precios de mercado</td>\n",
       "      <td>2021</td>\n",
       "      <td>37279735</td>\n",
       "      <td>3</td>\n",
       "    </tr>\n",
       "    <tr>\n",
       "      <th>4</th>\n",
       "      <td>Alicante/Alacant</td>\n",
       "      <td>producto interior bruto a precios de mercado</td>\n",
       "      <td>2020</td>\n",
       "      <td>33979911</td>\n",
       "      <td>3</td>\n",
       "    </tr>\n",
       "  </tbody>\n",
       "</table>\n",
       "</div>"
      ],
      "text/plain": [
       "          provinces                                      activity  period  \\\n",
       "0          Albacete  producto interior bruto a precios de mercado    2021   \n",
       "1          Albacete  producto interior bruto a precios de mercado    2020   \n",
       "2          Albacete  producto interior bruto a precios de mercado    2019   \n",
       "3  Alicante/Alacant  producto interior bruto a precios de mercado    2021   \n",
       "4  Alicante/Alacant  producto interior bruto a precios de mercado    2020   \n",
       "\n",
       "      total  cod_province  \n",
       "0   8663814             2  \n",
       "1   7855556             2  \n",
       "2   8475070             2  \n",
       "3  37279735             3  \n",
       "4  33979911             3  "
      ]
     },
     "execution_count": 6,
     "metadata": {},
     "output_type": "execute_result"
    }
   ],
   "source": [
    "economicos_INE_df.head()"
   ]
  },
  {
   "cell_type": "markdown",
   "metadata": {},
   "source": [
    "INE data is given by provinces and year, while the REE data has the data by region and month. That makes it tricky to join both unless having them both aggregated to the year and CCAA level. For that reason, the data models will not really be connected in the database model."
   ]
  },
  {
   "cell_type": "markdown",
   "metadata": {},
   "source": [
    "### 3. Decision on columns to keep or transform"
   ]
  },
  {
   "cell_type": "markdown",
   "metadata": {},
   "source": [
    "#### 3.1 Economicos INE"
   ]
  },
  {
   "cell_type": "code",
   "execution_count": 7,
   "metadata": {},
   "outputs": [
    {
     "data": {
      "text/html": [
       "<div>\n",
       "<style scoped>\n",
       "    .dataframe tbody tr th:only-of-type {\n",
       "        vertical-align: middle;\n",
       "    }\n",
       "\n",
       "    .dataframe tbody tr th {\n",
       "        vertical-align: top;\n",
       "    }\n",
       "\n",
       "    .dataframe thead th {\n",
       "        text-align: right;\n",
       "    }\n",
       "</style>\n",
       "<table border=\"1\" class=\"dataframe\">\n",
       "  <thead>\n",
       "    <tr style=\"text-align: right;\">\n",
       "      <th></th>\n",
       "      <th>provinces</th>\n",
       "      <th>activity</th>\n",
       "      <th>period</th>\n",
       "      <th>total</th>\n",
       "      <th>cod_province</th>\n",
       "    </tr>\n",
       "  </thead>\n",
       "  <tbody>\n",
       "    <tr>\n",
       "      <th>count</th>\n",
       "      <td>156</td>\n",
       "      <td>156</td>\n",
       "      <td>156</td>\n",
       "      <td>156</td>\n",
       "      <td>156</td>\n",
       "    </tr>\n",
       "    <tr>\n",
       "      <th>unique</th>\n",
       "      <td>52</td>\n",
       "      <td>1</td>\n",
       "      <td>3</td>\n",
       "      <td>156</td>\n",
       "      <td>52</td>\n",
       "    </tr>\n",
       "    <tr>\n",
       "      <th>top</th>\n",
       "      <td>Albacete</td>\n",
       "      <td>producto interior bruto a precios de mercado</td>\n",
       "      <td>2021</td>\n",
       "      <td>8663814</td>\n",
       "      <td>2</td>\n",
       "    </tr>\n",
       "    <tr>\n",
       "      <th>freq</th>\n",
       "      <td>3</td>\n",
       "      <td>156</td>\n",
       "      <td>52</td>\n",
       "      <td>1</td>\n",
       "      <td>3</td>\n",
       "    </tr>\n",
       "  </tbody>\n",
       "</table>\n",
       "</div>"
      ],
      "text/plain": [
       "       provinces                                      activity  period  \\\n",
       "count        156                                           156     156   \n",
       "unique        52                                             1       3   \n",
       "top     Albacete  producto interior bruto a precios de mercado    2021   \n",
       "freq           3                                           156      52   \n",
       "\n",
       "          total  cod_province  \n",
       "count       156           156  \n",
       "unique      156            52  \n",
       "top     8663814             2  \n",
       "freq          1             3  "
      ]
     },
     "execution_count": 7,
     "metadata": {},
     "output_type": "execute_result"
    }
   ],
   "source": [
    "economicos_INE_df.astype(\"O\").describe()"
   ]
  },
  {
   "cell_type": "markdown",
   "metadata": {},
   "source": [
    "From economicos_INE_df:\n",
    "- activity: drop. It has an only unique value.\n",
    "- provinces: drop. Leave cod_province as id_province to connect it with table 'provinces'\n",
    "\n",
    "New table - 'provinces':\n",
    "- id_province (cod_province)\n",
    "- province_name"
   ]
  },
  {
   "cell_type": "code",
   "execution_count": 8,
   "metadata": {},
   "outputs": [],
   "source": [
    "provinces = economicos_INE_df[[\"provinces\",\"cod_province\"]].drop_duplicates()\n",
    "economicos_INE_df.drop(columns=[\"provinces\",\"activity\"],inplace=True)"
   ]
  },
  {
   "cell_type": "markdown",
   "metadata": {},
   "source": [
    "#### 3.2 Demograficos INE"
   ]
  },
  {
   "cell_type": "code",
   "execution_count": 9,
   "metadata": {},
   "outputs": [
    {
     "data": {
      "text/html": [
       "<div>\n",
       "<style scoped>\n",
       "    .dataframe tbody tr th:only-of-type {\n",
       "        vertical-align: middle;\n",
       "    }\n",
       "\n",
       "    .dataframe tbody tr th {\n",
       "        vertical-align: top;\n",
       "    }\n",
       "\n",
       "    .dataframe thead th {\n",
       "        text-align: right;\n",
       "    }\n",
       "</style>\n",
       "<table border=\"1\" class=\"dataframe\">\n",
       "  <thead>\n",
       "    <tr style=\"text-align: right;\">\n",
       "      <th></th>\n",
       "      <th>provinces</th>\n",
       "      <th>age</th>\n",
       "      <th>nationality</th>\n",
       "      <th>gender</th>\n",
       "      <th>year</th>\n",
       "      <th>total</th>\n",
       "      <th>total.1</th>\n",
       "      <th>cod_province</th>\n",
       "    </tr>\n",
       "  </thead>\n",
       "  <tbody>\n",
       "    <tr>\n",
       "      <th>count</th>\n",
       "      <td>1872</td>\n",
       "      <td>1872</td>\n",
       "      <td>1872</td>\n",
       "      <td>1872</td>\n",
       "      <td>1872</td>\n",
       "      <td>1872</td>\n",
       "      <td>1872</td>\n",
       "      <td>1872</td>\n",
       "    </tr>\n",
       "    <tr>\n",
       "      <th>unique</th>\n",
       "      <td>52</td>\n",
       "      <td>3</td>\n",
       "      <td>2</td>\n",
       "      <td>2</td>\n",
       "      <td>3</td>\n",
       "      <td>1820</td>\n",
       "      <td>1820</td>\n",
       "      <td>52</td>\n",
       "    </tr>\n",
       "    <tr>\n",
       "      <th>top</th>\n",
       "      <td>Albacete</td>\n",
       "      <td>0-15 años</td>\n",
       "      <td>Españoles</td>\n",
       "      <td>Hombres</td>\n",
       "      <td>2021</td>\n",
       "      <td>410</td>\n",
       "      <td>410</td>\n",
       "      <td>2</td>\n",
       "    </tr>\n",
       "    <tr>\n",
       "      <th>freq</th>\n",
       "      <td>36</td>\n",
       "      <td>624</td>\n",
       "      <td>936</td>\n",
       "      <td>936</td>\n",
       "      <td>624</td>\n",
       "      <td>3</td>\n",
       "      <td>3</td>\n",
       "      <td>36</td>\n",
       "    </tr>\n",
       "  </tbody>\n",
       "</table>\n",
       "</div>"
      ],
      "text/plain": [
       "       provinces        age nationality   gender  year total  total.1  \\\n",
       "count       1872       1872        1872     1872  1872  1872     1872   \n",
       "unique        52          3           2        2     3  1820     1820   \n",
       "top     Albacete  0-15 años   Españoles  Hombres  2021   410      410   \n",
       "freq          36        624         936      936   624     3        3   \n",
       "\n",
       "        cod_province  \n",
       "count           1872  \n",
       "unique            52  \n",
       "top                2  \n",
       "freq              36  "
      ]
     },
     "execution_count": 9,
     "metadata": {},
     "output_type": "execute_result"
    }
   ],
   "source": [
    "demograficos_INE_df.astype(\"O\").describe()"
   ]
  },
  {
   "cell_type": "markdown",
   "metadata": {},
   "source": [
    "From demograficos_INE_df:\n",
    "- provinces: drop. Leave cod_province as id_province to connect it with table 'provinces'"
   ]
  },
  {
   "cell_type": "code",
   "execution_count": 10,
   "metadata": {},
   "outputs": [],
   "source": [
    "demograficos_INE_df.drop(columns=[\"provinces\"],inplace=True)"
   ]
  },
  {
   "cell_type": "markdown",
   "metadata": {},
   "source": [
    "#### 3.3 Generacion renovables"
   ]
  },
  {
   "cell_type": "code",
   "execution_count": 11,
   "metadata": {},
   "outputs": [
    {
     "data": {
      "text/html": [
       "<div>\n",
       "<style scoped>\n",
       "    .dataframe tbody tr th:only-of-type {\n",
       "        vertical-align: middle;\n",
       "    }\n",
       "\n",
       "    .dataframe tbody tr th {\n",
       "        vertical-align: top;\n",
       "    }\n",
       "\n",
       "    .dataframe thead th {\n",
       "        text-align: right;\n",
       "    }\n",
       "</style>\n",
       "<table border=\"1\" class=\"dataframe\">\n",
       "  <thead>\n",
       "    <tr style=\"text-align: right;\">\n",
       "      <th></th>\n",
       "      <th>value</th>\n",
       "      <th>percentage</th>\n",
       "      <th>datetime</th>\n",
       "      <th>type</th>\n",
       "      <th>ccaa</th>\n",
       "      <th>cod_ccaa</th>\n",
       "      <th>type_ccaa_outliers</th>\n",
       "    </tr>\n",
       "  </thead>\n",
       "  <tbody>\n",
       "    <tr>\n",
       "      <th>count</th>\n",
       "      <td>2909.000</td>\n",
       "      <td>2909.0</td>\n",
       "      <td>2909</td>\n",
       "      <td>2909</td>\n",
       "      <td>2909</td>\n",
       "      <td>2909</td>\n",
       "      <td>2909</td>\n",
       "    </tr>\n",
       "    <tr>\n",
       "      <th>unique</th>\n",
       "      <td>2909.000</td>\n",
       "      <td>2907.0</td>\n",
       "      <td>36</td>\n",
       "      <td>7</td>\n",
       "      <td>18</td>\n",
       "      <td>18</td>\n",
       "      <td>2</td>\n",
       "    </tr>\n",
       "    <tr>\n",
       "      <th>top</th>\n",
       "      <td>700.953</td>\n",
       "      <td>0.0</td>\n",
       "      <td>2019-03-31 22:00:00</td>\n",
       "      <td>Solar fotovoltaica</td>\n",
       "      <td>Cataluña</td>\n",
       "      <td>9</td>\n",
       "      <td>0</td>\n",
       "    </tr>\n",
       "    <tr>\n",
       "      <th>freq</th>\n",
       "      <td>1.000</td>\n",
       "      <td>3.0</td>\n",
       "      <td>81</td>\n",
       "      <td>647</td>\n",
       "      <td>216</td>\n",
       "      <td>216</td>\n",
       "      <td>2829</td>\n",
       "    </tr>\n",
       "  </tbody>\n",
       "</table>\n",
       "</div>"
      ],
      "text/plain": [
       "           value  percentage             datetime                type  \\\n",
       "count   2909.000      2909.0                 2909                2909   \n",
       "unique  2909.000      2907.0                   36                   7   \n",
       "top      700.953         0.0  2019-03-31 22:00:00  Solar fotovoltaica   \n",
       "freq       1.000         3.0                   81                 647   \n",
       "\n",
       "            ccaa  cod_ccaa  type_ccaa_outliers  \n",
       "count       2909      2909                2909  \n",
       "unique        18        18                   2  \n",
       "top     Cataluña         9                   0  \n",
       "freq         216       216                2829  "
      ]
     },
     "execution_count": 11,
     "metadata": {},
     "output_type": "execute_result"
    }
   ],
   "source": [
    "generacion_renovables_df.astype(\"O\").describe()"
   ]
  },
  {
   "cell_type": "markdown",
   "metadata": {},
   "source": [
    "From generacion_renovables_df:\n",
    "- type_ccaa_outliers: drop. It can be calculated anytime.\n",
    "- percentage: drop. It can be calculated any time.\n",
    "- type: could be replaced by an id, but there are no other characteristics to add and, given the size of the data space saving is negligible.\n",
    "- ccaa: drop. Leave cod_ccaa and create new ccaa column.\n",
    "- datetime: dive into year and month\n",
    "\n",
    "New table - ccaa\n",
    "- ccaa_id\n",
    "- ccaa"
   ]
  },
  {
   "cell_type": "code",
   "execution_count": 12,
   "metadata": {},
   "outputs": [
    {
     "name": "stdout",
     "output_type": "stream",
     "text": [
      "<class 'pandas.core.frame.DataFrame'>\n",
      "Index: 2909 entries, 0 to 2908\n",
      "Data columns (total 7 columns):\n",
      " #   Column              Non-Null Count  Dtype  \n",
      "---  ------              --------------  -----  \n",
      " 0   value               2909 non-null   float64\n",
      " 1   percentage          2909 non-null   float64\n",
      " 2   datetime            2909 non-null   object \n",
      " 3   type                2909 non-null   object \n",
      " 4   ccaa                2909 non-null   object \n",
      " 5   cod_ccaa            2909 non-null   int64  \n",
      " 6   type_ccaa_outliers  2909 non-null   int64  \n",
      "dtypes: float64(2), int64(2), object(3)\n",
      "memory usage: 181.8+ KB\n"
     ]
    }
   ],
   "source": [
    "generacion_renovables_df.info()"
   ]
  },
  {
   "cell_type": "code",
   "execution_count": 13,
   "metadata": {},
   "outputs": [],
   "source": [
    "generacion_renovables_df[\"year\"] = pd.to_datetime(generacion_renovables_df[\"datetime\"]).dt.year\n",
    "generacion_renovables_df[\"month\"] = pd.to_datetime(generacion_renovables_df[\"datetime\"]).dt.month\n",
    "ccaa = generacion_renovables_df[[\"ccaa\",\"cod_ccaa\"]].drop_duplicates()"
   ]
  },
  {
   "cell_type": "code",
   "execution_count": 14,
   "metadata": {},
   "outputs": [
    {
     "data": {
      "text/html": [
       "<div>\n",
       "<style scoped>\n",
       "    .dataframe tbody tr th:only-of-type {\n",
       "        vertical-align: middle;\n",
       "    }\n",
       "\n",
       "    .dataframe tbody tr th {\n",
       "        vertical-align: top;\n",
       "    }\n",
       "\n",
       "    .dataframe thead th {\n",
       "        text-align: right;\n",
       "    }\n",
       "</style>\n",
       "<table border=\"1\" class=\"dataframe\">\n",
       "  <thead>\n",
       "    <tr style=\"text-align: right;\">\n",
       "      <th></th>\n",
       "      <th>value</th>\n",
       "      <th>type</th>\n",
       "      <th>cod_ccaa</th>\n",
       "      <th>year</th>\n",
       "      <th>month</th>\n",
       "    </tr>\n",
       "  </thead>\n",
       "  <tbody>\n",
       "    <tr>\n",
       "      <th>0</th>\n",
       "      <td>5.053</td>\n",
       "      <td>Solar fotovoltaica</td>\n",
       "      <td>8745</td>\n",
       "      <td>2018</td>\n",
       "      <td>12</td>\n",
       "    </tr>\n",
       "    <tr>\n",
       "      <th>1</th>\n",
       "      <td>5.526</td>\n",
       "      <td>Solar fotovoltaica</td>\n",
       "      <td>8745</td>\n",
       "      <td>2019</td>\n",
       "      <td>1</td>\n",
       "    </tr>\n",
       "    <tr>\n",
       "      <th>2</th>\n",
       "      <td>6.561</td>\n",
       "      <td>Solar fotovoltaica</td>\n",
       "      <td>8745</td>\n",
       "      <td>2019</td>\n",
       "      <td>2</td>\n",
       "    </tr>\n",
       "    <tr>\n",
       "      <th>3</th>\n",
       "      <td>7.925</td>\n",
       "      <td>Solar fotovoltaica</td>\n",
       "      <td>8745</td>\n",
       "      <td>2019</td>\n",
       "      <td>3</td>\n",
       "    </tr>\n",
       "    <tr>\n",
       "      <th>4</th>\n",
       "      <td>8.683</td>\n",
       "      <td>Solar fotovoltaica</td>\n",
       "      <td>8745</td>\n",
       "      <td>2019</td>\n",
       "      <td>4</td>\n",
       "    </tr>\n",
       "    <tr>\n",
       "      <th>...</th>\n",
       "      <td>...</td>\n",
       "      <td>...</td>\n",
       "      <td>...</td>\n",
       "      <td>...</td>\n",
       "      <td>...</td>\n",
       "    </tr>\n",
       "    <tr>\n",
       "      <th>2904</th>\n",
       "      <td>645.334</td>\n",
       "      <td>Otras renovables</td>\n",
       "      <td>20</td>\n",
       "      <td>2021</td>\n",
       "      <td>7</td>\n",
       "    </tr>\n",
       "    <tr>\n",
       "      <th>2905</th>\n",
       "      <td>695.538</td>\n",
       "      <td>Otras renovables</td>\n",
       "      <td>20</td>\n",
       "      <td>2021</td>\n",
       "      <td>8</td>\n",
       "    </tr>\n",
       "    <tr>\n",
       "      <th>2906</th>\n",
       "      <td>588.318</td>\n",
       "      <td>Otras renovables</td>\n",
       "      <td>20</td>\n",
       "      <td>2021</td>\n",
       "      <td>9</td>\n",
       "    </tr>\n",
       "    <tr>\n",
       "      <th>2907</th>\n",
       "      <td>434.937</td>\n",
       "      <td>Otras renovables</td>\n",
       "      <td>20</td>\n",
       "      <td>2021</td>\n",
       "      <td>10</td>\n",
       "    </tr>\n",
       "    <tr>\n",
       "      <th>2908</th>\n",
       "      <td>700.953</td>\n",
       "      <td>Otras renovables</td>\n",
       "      <td>20</td>\n",
       "      <td>2021</td>\n",
       "      <td>11</td>\n",
       "    </tr>\n",
       "  </tbody>\n",
       "</table>\n",
       "<p>2909 rows × 5 columns</p>\n",
       "</div>"
      ],
      "text/plain": [
       "        value                type  cod_ccaa  year  month\n",
       "0       5.053  Solar fotovoltaica      8745  2018     12\n",
       "1       5.526  Solar fotovoltaica      8745  2019      1\n",
       "2       6.561  Solar fotovoltaica      8745  2019      2\n",
       "3       7.925  Solar fotovoltaica      8745  2019      3\n",
       "4       8.683  Solar fotovoltaica      8745  2019      4\n",
       "...       ...                 ...       ...   ...    ...\n",
       "2904  645.334    Otras renovables        20  2021      7\n",
       "2905  695.538    Otras renovables        20  2021      8\n",
       "2906  588.318    Otras renovables        20  2021      9\n",
       "2907  434.937    Otras renovables        20  2021     10\n",
       "2908  700.953    Otras renovables        20  2021     11\n",
       "\n",
       "[2909 rows x 5 columns]"
      ]
     },
     "execution_count": 14,
     "metadata": {},
     "output_type": "execute_result"
    }
   ],
   "source": [
    "generacion_renovables_df.drop(columns=[\"type_ccaa_outliers\",\"ccaa\",\"datetime\",\"percentage\"])"
   ]
  },
  {
   "cell_type": "markdown",
   "metadata": {},
   "source": [
    "#### 3. 4 Demanda evolucion"
   ]
  },
  {
   "cell_type": "code",
   "execution_count": 15,
   "metadata": {},
   "outputs": [
    {
     "data": {
      "text/html": [
       "<div>\n",
       "<style scoped>\n",
       "    .dataframe tbody tr th:only-of-type {\n",
       "        vertical-align: middle;\n",
       "    }\n",
       "\n",
       "    .dataframe tbody tr th {\n",
       "        vertical-align: top;\n",
       "    }\n",
       "\n",
       "    .dataframe thead th {\n",
       "        text-align: right;\n",
       "    }\n",
       "</style>\n",
       "<table border=\"1\" class=\"dataframe\">\n",
       "  <thead>\n",
       "    <tr style=\"text-align: right;\">\n",
       "      <th></th>\n",
       "      <th>value</th>\n",
       "      <th>datetime</th>\n",
       "      <th>ccaa</th>\n",
       "      <th>cod_ccaa</th>\n",
       "      <th>outliers</th>\n",
       "    </tr>\n",
       "  </thead>\n",
       "  <tbody>\n",
       "    <tr>\n",
       "      <th>count</th>\n",
       "      <td>684.000</td>\n",
       "      <td>684</td>\n",
       "      <td>684</td>\n",
       "      <td>684</td>\n",
       "      <td>684.0</td>\n",
       "    </tr>\n",
       "    <tr>\n",
       "      <th>unique</th>\n",
       "      <td>684.000</td>\n",
       "      <td>36</td>\n",
       "      <td>19</td>\n",
       "      <td>19</td>\n",
       "      <td>2.0</td>\n",
       "    </tr>\n",
       "    <tr>\n",
       "      <th>top</th>\n",
       "      <td>141258.077</td>\n",
       "      <td>2018-12-31 23:00:00</td>\n",
       "      <td>Ceuta</td>\n",
       "      <td>8744</td>\n",
       "      <td>0.0</td>\n",
       "    </tr>\n",
       "    <tr>\n",
       "      <th>freq</th>\n",
       "      <td>1.000</td>\n",
       "      <td>19</td>\n",
       "      <td>36</td>\n",
       "      <td>36</td>\n",
       "      <td>653.0</td>\n",
       "    </tr>\n",
       "  </tbody>\n",
       "</table>\n",
       "</div>"
      ],
      "text/plain": [
       "             value             datetime   ccaa  cod_ccaa  outliers\n",
       "count      684.000                  684    684       684     684.0\n",
       "unique     684.000                   36     19        19       2.0\n",
       "top     141258.077  2018-12-31 23:00:00  Ceuta      8744       0.0\n",
       "freq         1.000                   19     36        36     653.0"
      ]
     },
     "execution_count": 15,
     "metadata": {},
     "output_type": "execute_result"
    }
   ],
   "source": [
    "demanda_evolucion_df.astype(\"O\").describe()"
   ]
  },
  {
   "cell_type": "markdown",
   "metadata": {},
   "source": [
    "From demanda_evolucion_df:\n",
    "- outliers: drop. It can be calculated anytime.\n",
    "- type: could be replaced by an id, but there are no other characteristics to add and, given the size of the data so space saving is negligible.\n",
    "- ccaa: drop. Leave cod_ccaa and create new ccaa column.\n",
    "- datetime: dive into year and month"
   ]
  },
  {
   "cell_type": "code",
   "execution_count": 16,
   "metadata": {},
   "outputs": [],
   "source": [
    "demanda_evolucion_df[\"year\"] = pd.to_datetime(demanda_evolucion_df[\"datetime\"]).dt.year\n",
    "demanda_evolucion_df[\"month\"] = pd.to_datetime(demanda_evolucion_df[\"datetime\"]).dt.month"
   ]
  },
  {
   "cell_type": "markdown",
   "metadata": {},
   "source": [
    "### Proposed database schema"
   ]
  },
  {
   "cell_type": "markdown",
   "metadata": {},
   "source": [
    "```sql\n",
    "CREATE TABLE ccaa (\n",
    "    ccaa_id INT PRIMARY KEY,\n",
    "    ccaa VARCHAR(100) NOT NULL\n",
    ");\n",
    "\n",
    "CREATE TABLE provinces (\n",
    "    province_id INT PRIMARY KEY,\n",
    "    province_name VARCHAR(100) NOT NULL,\n",
    "    ccaa_id INT REFERENCES ccaa(ccaa_id) ON DELETE SET NULL\n",
    ");\n",
    "\n",
    "CREATE TABLE economicos (\n",
    "    economicos_id SERIAL PRIMARY KEY,\n",
    "    province_id INT REFERENCES provinces(province_id) ON DELETE SET NULL,\n",
    "    year INT NOT NULL,\n",
    "    total DECIMAL(15, 2) NOT NULL,\n",
    "    ccaa_id INT REFERENCES ccaa(ccaa_id) ON DELETE SET NULL\n",
    ");\n",
    "\n",
    "CREATE TABLE demograficos (\n",
    "    demograficos_id SERIAL PRIMARY KEY,\n",
    "    year INT NOT NULL,\n",
    "    province_id INT REFERENCES provinces(province_id) ON DELETE SET NULL,\n",
    "    age_range VARCHAR(20d) NOT NULL,\n",
    "    nationality VARCHAR(100) NOT NULL,\n",
    "    gender CHAR(1) CHECK (gender IN ('H', 'M')),\n",
    "    total INT NOT NULL,\n",
    "    ccaa_id INT REFERENCES ccaa(ccaa_id) ON DELETE SET NULL\n",
    ");\n",
    "\n",
    "CREATE TABLE generacion_renovables (\n",
    "    generacion_id SERIAL PRIMARY KEY,\n",
    "    year INT NOT NULL,\n",
    "    month INT CHECK (month BETWEEN 1 AND 12),\n",
    "    value DECIMAL(15, 2) NOT NULL,\n",
    "    type VARCHAR(100) NOT NULL,\n",
    "    ccaa_id INT REFERENCES ccaa(ccaa_id) ON DELETE SET NULL\n",
    ");\n",
    "\n",
    "CREATE TABLE demanda_evolucion (\n",
    "    demanda_id SERIAL PRIMARY KEY,\n",
    "    year INT NOT NULL,\n",
    "    month INT CHECK (month BETWEEN 1 AND 12),\n",
    "    value DECIMAL(15, 2) NOT NULL,\n",
    "    ccaa_id INT REFERENCES ccaa(ccaa_id) ON DELETE SET NULL\n",
    ");\n",
    "```"
   ]
  },
  {
   "cell_type": "code",
   "execution_count": 17,
   "metadata": {},
   "outputs": [
    {
     "name": "stdout",
     "output_type": "stream",
     "text": [
      "La base de datos ya existe\n"
     ]
    }
   ],
   "source": [
    "crear_db(\"lab3_mod5\")"
   ]
  },
  {
   "cell_type": "code",
   "execution_count": 18,
   "metadata": {},
   "outputs": [],
   "source": [
    "conn = establecer_conn(\"lab3_mod5\", \"admin\", \"postgres\")\n",
    "\n",
    "conn.cursor().execute(sdc.drop_all_tables)\n",
    "conn.cursor().execute(sdc.ccaa_table)\n",
    "conn.cursor().execute(sdc.provinces_table)\n",
    "conn.cursor().execute(sdc.economicos_table)\n",
    "conn.cursor().execute(sdc.demograficos_table)\n",
    "conn.cursor().execute(sdc.demanda_evolucion_table)\n",
    "conn.cursor().execute(sdc.generacion_renovables_table)"
   ]
  },
  {
   "cell_type": "markdown",
   "metadata": {},
   "source": [
    "### 4. Insert tables"
   ]
  },
  {
   "cell_type": "code",
   "execution_count": 19,
   "metadata": {},
   "outputs": [],
   "source": [
    "cur = conn.cursor()"
   ]
  },
  {
   "cell_type": "markdown",
   "metadata": {},
   "source": [
    "#### 4.1 Insert ccaa records"
   ]
  },
  {
   "cell_type": "code",
   "execution_count": 20,
   "metadata": {},
   "outputs": [
    {
     "data": {
      "text/plain": [
       "[('Melilla', 8745),\n",
       " ('Andalucía', 4),\n",
       " ('Aragón', 5),\n",
       " ('Cantabria', 6),\n",
       " ('Castilla - La Mancha', 7),\n",
       " ('Castilla y León', 8),\n",
       " ('Cataluña', 9),\n",
       " ('País Vasco', 10),\n",
       " ('Principado de Asturias', 11),\n",
       " ('Comunidad de Madrid', 13),\n",
       " ('Comunidad Foral de Navarra', 14),\n",
       " ('Comunitat Valenciana', 15),\n",
       " ('Extremadura', 16),\n",
       " ('Galicia', 17),\n",
       " ('Illes Balears', 8743),\n",
       " ('Canarias', 8742),\n",
       " ('Región de Murcia', 21),\n",
       " ('La Rioja', 20)]"
      ]
     },
     "execution_count": 20,
     "metadata": {},
     "output_type": "execute_result"
    }
   ],
   "source": [
    "ccaa_tuples = [tuple(row) for _,row in ccaa.iterrows()]\n",
    "ccaa_tuples"
   ]
  },
  {
   "cell_type": "code",
   "execution_count": 21,
   "metadata": {},
   "outputs": [],
   "source": [
    "cur.executemany(\n",
    "\"INSERT INTO ccaa (ccaa,ccaa_id) VALUES (%s,%s)\",\n",
    "ccaa_tuples\n",
    ")"
   ]
  },
  {
   "cell_type": "markdown",
   "metadata": {},
   "source": [
    "#### 4.2 Insert provinces "
   ]
  },
  {
   "cell_type": "code",
   "execution_count": 22,
   "metadata": {},
   "outputs": [],
   "source": [
    "province_to_ccaa = {\n",
    "    \"Albacete\": 7,\n",
    "    \"Alicante/Alacant\": 15,\n",
    "    \"Almería\": 4,\n",
    "    \"Araba/Álava\": 10,\n",
    "    \"Asturias\": 11,\n",
    "    \"Ávila\": 8,\n",
    "    \"Badajoz\": 16,\n",
    "    \"Balears, Illes\": 8743,\n",
    "    \"Barcelona\": 9,\n",
    "    \"Bizkaia\": 10,\n",
    "    \"Burgos\": 8,\n",
    "    \"Cáceres\": 16,\n",
    "    \"Cádiz\": 4,\n",
    "    \"Cantabria\": 6,\n",
    "    \"Castellón/Castelló\": 15,\n",
    "    \"Ciudad Real\": 7,\n",
    "    \"Córdoba\": 4,\n",
    "    \"Coruña, A\": 17,\n",
    "    \"Cuenca\": 7,\n",
    "    \"Gipuzkoa\": 10,\n",
    "    \"Girona\": 9,\n",
    "    \"Granada\": 4,\n",
    "    \"Guadalajara\": 7,\n",
    "    \"Huelva\": 4,\n",
    "    \"Huesca\": 5,\n",
    "    \"Jaén\": 4,\n",
    "    \"León\": 8,\n",
    "    \"Lleida\": 9,\n",
    "    \"Lugo\": 17,\n",
    "    \"Madrid\": 13,\n",
    "    \"Málaga\": 4,\n",
    "    \"Murcia\": 21,\n",
    "    \"Navarra\": 14,\n",
    "    \"Ourense\": 17,\n",
    "    \"Palencia\": 8,\n",
    "    \"Palmas, Las\": 8742,\n",
    "    \"Pontevedra\": 17,\n",
    "    \"Rioja, La\": 20,\n",
    "    \"Salamanca\": 8,\n",
    "    \"Santa Cruz de Tenerife\": 8742,\n",
    "    \"Segovia\": 8,\n",
    "    \"Sevilla\": 4,\n",
    "    \"Soria\": 8,\n",
    "    \"Tarragona\": 9,\n",
    "    \"Teruel\": 5,\n",
    "    \"Toledo\": 7,\n",
    "    \"Valencia/València\": 15,\n",
    "    \"Valladolid\": 8,\n",
    "    \"Zamora\": 8,\n",
    "    \"Zaragoza\": 5,\n",
    "    \"Ceuta\": 8745,\n",
    "    \"Melilla\": 8745\n",
    "}\n"
   ]
  },
  {
   "cell_type": "markdown",
   "metadata": {},
   "source": [
    "Adding the ccaa_id"
   ]
  },
  {
   "cell_type": "code",
   "execution_count": 23,
   "metadata": {},
   "outputs": [],
   "source": [
    "provinces[\"ccaa_id\"] =  provinces[\"provinces\"].map(lambda x: province_to_ccaa.get(x))\n",
    "provinces = provinces[[ \"cod_province\", \"provinces\",\"ccaa_id\"]]"
   ]
  },
  {
   "cell_type": "code",
   "execution_count": 24,
   "metadata": {},
   "outputs": [
    {
     "data": {
      "text/plain": [
       "[(2, 'Albacete', 7),\n",
       " (3, 'Alicante/Alacant', 15),\n",
       " (4, 'Almería', 4),\n",
       " (1, 'Araba/Álava', 10),\n",
       " (33, 'Asturias', 11)]"
      ]
     },
     "execution_count": 24,
     "metadata": {},
     "output_type": "execute_result"
    }
   ],
   "source": [
    "provinces_tuples = [tuple(row) for _,row in provinces.iterrows()]\n",
    "provinces_tuples[:5]"
   ]
  },
  {
   "cell_type": "code",
   "execution_count": 25,
   "metadata": {},
   "outputs": [],
   "source": [
    "cur.executemany(\n",
    "\"INSERT INTO provinces VALUES (%s,%s,%s)\",\n",
    "provinces_tuples\n",
    ")"
   ]
  },
  {
   "cell_type": "markdown",
   "metadata": {},
   "source": [
    "#### 4.3 Insert economicos"
   ]
  },
  {
   "cell_type": "code",
   "execution_count": 26,
   "metadata": {},
   "outputs": [
    {
     "name": "stderr",
     "output_type": "stream",
     "text": [
      "C:\\Users\\Miguel\\AppData\\Local\\Temp\\ipykernel_22456\\2191284678.py:1: FutureWarning: Series.__getitem__ treating keys as positions is deprecated. In a future version, integer keys will always be treated as labels (consistent with DataFrame behavior). To access a value by position, use `ser.iloc[pos]`\n",
      "  province_id_to_ccaa_id_mapping = {int(row[0]):int(row[1]) for _,row in provinces[[\"cod_province\",\"ccaa_id\"]].iterrows()}\n"
     ]
    }
   ],
   "source": [
    "province_id_to_ccaa_id_mapping = {int(row[0]):int(row[1]) for _,row in provinces[[\"cod_province\",\"ccaa_id\"]].iterrows()}\n",
    "economicos_INE_df[\"ccaa_id\"] =  economicos_INE_df[\"cod_province\"].map(lambda x: province_id_to_ccaa_id_mapping.get(x))"
   ]
  },
  {
   "cell_type": "code",
   "execution_count": 27,
   "metadata": {},
   "outputs": [],
   "source": [
    "economicos_INE_df = economicos_INE_df[[\"cod_province\",\"period\",\"total\",\"ccaa_id\"]]"
   ]
  },
  {
   "cell_type": "code",
   "execution_count": 28,
   "metadata": {},
   "outputs": [
    {
     "data": {
      "text/plain": [
       "[(2, 2021, 8663814, 7),\n",
       " (2, 2020, 7855556, 7),\n",
       " (2, 2019, 8475070, 7),\n",
       " (3, 2021, 37279735, 15),\n",
       " (3, 2020, 33979911, 15)]"
      ]
     },
     "execution_count": 28,
     "metadata": {},
     "output_type": "execute_result"
    }
   ],
   "source": [
    "economicos_INE_tuples = [tuple(row) for _,row in economicos_INE_df.iterrows()]\n",
    "economicos_INE_tuples[:5]"
   ]
  },
  {
   "cell_type": "code",
   "execution_count": 29,
   "metadata": {},
   "outputs": [],
   "source": [
    "cur.executemany(\n",
    "\"INSERT INTO economicos (province_id, year, total, ccaa_id) VALUES (%s,%s,%s,%s)\",\n",
    "economicos_INE_tuples\n",
    ")"
   ]
  },
  {
   "cell_type": "markdown",
   "metadata": {},
   "source": [
    "#### 4.4 Insert demográficos"
   ]
  },
  {
   "cell_type": "code",
   "execution_count": 30,
   "metadata": {},
   "outputs": [],
   "source": [
    "demograficos_INE_df[\"gender\"] = demograficos_INE_df[\"gender\"].str[:1]"
   ]
  },
  {
   "cell_type": "code",
   "execution_count": 31,
   "metadata": {},
   "outputs": [],
   "source": [
    "demograficos_INE_df = demograficos_INE_df[[\"year\",\"cod_province\",\"age\",\"nationality\",\"gender\",\"total.1\"]]"
   ]
  },
  {
   "cell_type": "code",
   "execution_count": 32,
   "metadata": {},
   "outputs": [],
   "source": [
    "demograficos_INE_df[\"ccaa_id\"] =  demograficos_INE_df[\"cod_province\"].map(lambda x: province_id_to_ccaa_id_mapping.get(x))"
   ]
  },
  {
   "cell_type": "code",
   "execution_count": 33,
   "metadata": {},
   "outputs": [
    {
     "data": {
      "text/plain": [
       "[(2021, 2, '0-15 años', 'Españoles', 'H', 27304, 7),\n",
       " (2020, 2, '0-15 años', 'Españoles', 'H', 27979, 7),\n",
       " (2019, 2, '0-15 años', 'Españoles', 'H', 28513, 7),\n",
       " (2021, 2, '0-15 años', 'Españoles', 'M', 25547, 7),\n",
       " (2020, 2, '0-15 años', 'Españoles', 'M', 25953, 7)]"
      ]
     },
     "execution_count": 33,
     "metadata": {},
     "output_type": "execute_result"
    }
   ],
   "source": [
    "demograficos_INE_tuple = [tuple(row) for _,row in demograficos_INE_df.iterrows()]\n",
    "demograficos_INE_tuple[:5]"
   ]
  },
  {
   "cell_type": "code",
   "execution_count": 34,
   "metadata": {},
   "outputs": [],
   "source": [
    "cur.executemany(\n",
    "\"INSERT INTO demograficos (year, province_id, age, nationality, gender, total, ccaa_id) VALUES (%s,%s,%s,%s,%s,%s,%s)\",\n",
    "demograficos_INE_tuple\n",
    ")"
   ]
  },
  {
   "cell_type": "markdown",
   "metadata": {},
   "source": [
    "#### 4.5 Insert generacion renovables"
   ]
  },
  {
   "cell_type": "code",
   "execution_count": 35,
   "metadata": {},
   "outputs": [
    {
     "data": {
      "text/plain": [
       "[(2018, 12, 5.053, 'Solar fotovoltaica', 8745),\n",
       " (2019, 1, 5.526, 'Solar fotovoltaica', 8745),\n",
       " (2019, 2, 6.561, 'Solar fotovoltaica', 8745),\n",
       " (2019, 3, 7.925, 'Solar fotovoltaica', 8745),\n",
       " (2019, 4, 8.683, 'Solar fotovoltaica', 8745)]"
      ]
     },
     "execution_count": 35,
     "metadata": {},
     "output_type": "execute_result"
    }
   ],
   "source": [
    "generacion_renovables_df = generacion_renovables_df[[\"year\",\"month\",\"value\",\"type\",\"cod_ccaa\"]]\n",
    "generacion_renovables_tuple = [tuple(row) for _,row in generacion_renovables_df.iterrows()]\n",
    "generacion_renovables_tuple[:5]"
   ]
  },
  {
   "cell_type": "code",
   "execution_count": 36,
   "metadata": {},
   "outputs": [],
   "source": [
    "cur.executemany(\n",
    "\"INSERT INTO generacion_renovables (year, month, value, type, ccaa_id) VALUES (%s,%s,%s,%s,%s)\",\n",
    "generacion_renovables_tuple\n",
    ")"
   ]
  },
  {
   "cell_type": "markdown",
   "metadata": {},
   "source": [
    "#### 4.6 Insert demanda evolucion    "
   ]
  },
  {
   "cell_type": "markdown",
   "metadata": {},
   "source": [
    "CREATE TABLE demanda_evolucion (\n",
    "    demanda_id SERIAL PRIMARY KEY,\n",
    "    year INT NOT NULL,\n",
    "    month INT CHECK (month BETWEEN 1 AND 12),\n",
    "    value DECIMAL(15, 2) NOT NULL,\n",
    "    ccaa_id INT REFERENCES ccaa(ccaa_id) ON DELETE SET NULL\n",
    ");"
   ]
  },
  {
   "cell_type": "code",
   "execution_count": 37,
   "metadata": {},
   "outputs": [
    {
     "data": {
      "text/html": [
       "<div>\n",
       "<style scoped>\n",
       "    .dataframe tbody tr th:only-of-type {\n",
       "        vertical-align: middle;\n",
       "    }\n",
       "\n",
       "    .dataframe tbody tr th {\n",
       "        vertical-align: top;\n",
       "    }\n",
       "\n",
       "    .dataframe thead th {\n",
       "        text-align: right;\n",
       "    }\n",
       "</style>\n",
       "<table border=\"1\" class=\"dataframe\">\n",
       "  <thead>\n",
       "    <tr style=\"text-align: right;\">\n",
       "      <th></th>\n",
       "      <th>value</th>\n",
       "      <th>datetime</th>\n",
       "      <th>ccaa</th>\n",
       "      <th>cod_ccaa</th>\n",
       "      <th>outliers</th>\n",
       "      <th>year</th>\n",
       "      <th>month</th>\n",
       "    </tr>\n",
       "  </thead>\n",
       "  <tbody>\n",
       "    <tr>\n",
       "      <th>0</th>\n",
       "      <td>17830.239</td>\n",
       "      <td>2018-12-31 23:00:00</td>\n",
       "      <td>Ceuta</td>\n",
       "      <td>8744</td>\n",
       "      <td>0.0</td>\n",
       "      <td>2018</td>\n",
       "      <td>12</td>\n",
       "    </tr>\n",
       "    <tr>\n",
       "      <th>1</th>\n",
       "      <td>16019.527</td>\n",
       "      <td>2019-01-31 23:00:00</td>\n",
       "      <td>Ceuta</td>\n",
       "      <td>8744</td>\n",
       "      <td>0.0</td>\n",
       "      <td>2019</td>\n",
       "      <td>1</td>\n",
       "    </tr>\n",
       "    <tr>\n",
       "      <th>2</th>\n",
       "      <td>16598.235</td>\n",
       "      <td>2019-02-28 23:00:00</td>\n",
       "      <td>Ceuta</td>\n",
       "      <td>8744</td>\n",
       "      <td>0.0</td>\n",
       "      <td>2019</td>\n",
       "      <td>2</td>\n",
       "    </tr>\n",
       "    <tr>\n",
       "      <th>3</th>\n",
       "      <td>15221.094</td>\n",
       "      <td>2019-03-31 22:00:00</td>\n",
       "      <td>Ceuta</td>\n",
       "      <td>8744</td>\n",
       "      <td>0.0</td>\n",
       "      <td>2019</td>\n",
       "      <td>3</td>\n",
       "    </tr>\n",
       "    <tr>\n",
       "      <th>4</th>\n",
       "      <td>16753.540</td>\n",
       "      <td>2019-04-30 22:00:00</td>\n",
       "      <td>Ceuta</td>\n",
       "      <td>8744</td>\n",
       "      <td>0.0</td>\n",
       "      <td>2019</td>\n",
       "      <td>4</td>\n",
       "    </tr>\n",
       "    <tr>\n",
       "      <th>...</th>\n",
       "      <td>...</td>\n",
       "      <td>...</td>\n",
       "      <td>...</td>\n",
       "      <td>...</td>\n",
       "      <td>...</td>\n",
       "      <td>...</td>\n",
       "      <td>...</td>\n",
       "    </tr>\n",
       "    <tr>\n",
       "      <th>679</th>\n",
       "      <td>130850.035</td>\n",
       "      <td>2021-07-31 22:00:00</td>\n",
       "      <td>La Rioja</td>\n",
       "      <td>20</td>\n",
       "      <td>0.0</td>\n",
       "      <td>2021</td>\n",
       "      <td>7</td>\n",
       "    </tr>\n",
       "    <tr>\n",
       "      <th>680</th>\n",
       "      <td>133323.629</td>\n",
       "      <td>2021-08-31 22:00:00</td>\n",
       "      <td>La Rioja</td>\n",
       "      <td>20</td>\n",
       "      <td>0.0</td>\n",
       "      <td>2021</td>\n",
       "      <td>8</td>\n",
       "    </tr>\n",
       "    <tr>\n",
       "      <th>681</th>\n",
       "      <td>135918.940</td>\n",
       "      <td>2021-09-30 22:00:00</td>\n",
       "      <td>La Rioja</td>\n",
       "      <td>20</td>\n",
       "      <td>0.0</td>\n",
       "      <td>2021</td>\n",
       "      <td>9</td>\n",
       "    </tr>\n",
       "    <tr>\n",
       "      <th>682</th>\n",
       "      <td>140846.250</td>\n",
       "      <td>2021-10-31 23:00:00</td>\n",
       "      <td>La Rioja</td>\n",
       "      <td>20</td>\n",
       "      <td>0.0</td>\n",
       "      <td>2021</td>\n",
       "      <td>10</td>\n",
       "    </tr>\n",
       "    <tr>\n",
       "      <th>683</th>\n",
       "      <td>141258.077</td>\n",
       "      <td>2021-11-30 23:00:00</td>\n",
       "      <td>La Rioja</td>\n",
       "      <td>20</td>\n",
       "      <td>0.0</td>\n",
       "      <td>2021</td>\n",
       "      <td>11</td>\n",
       "    </tr>\n",
       "  </tbody>\n",
       "</table>\n",
       "<p>684 rows × 7 columns</p>\n",
       "</div>"
      ],
      "text/plain": [
       "          value             datetime      ccaa  cod_ccaa  outliers  year  \\\n",
       "0     17830.239  2018-12-31 23:00:00     Ceuta      8744       0.0  2018   \n",
       "1     16019.527  2019-01-31 23:00:00     Ceuta      8744       0.0  2019   \n",
       "2     16598.235  2019-02-28 23:00:00     Ceuta      8744       0.0  2019   \n",
       "3     15221.094  2019-03-31 22:00:00     Ceuta      8744       0.0  2019   \n",
       "4     16753.540  2019-04-30 22:00:00     Ceuta      8744       0.0  2019   \n",
       "..          ...                  ...       ...       ...       ...   ...   \n",
       "679  130850.035  2021-07-31 22:00:00  La Rioja        20       0.0  2021   \n",
       "680  133323.629  2021-08-31 22:00:00  La Rioja        20       0.0  2021   \n",
       "681  135918.940  2021-09-30 22:00:00  La Rioja        20       0.0  2021   \n",
       "682  140846.250  2021-10-31 23:00:00  La Rioja        20       0.0  2021   \n",
       "683  141258.077  2021-11-30 23:00:00  La Rioja        20       0.0  2021   \n",
       "\n",
       "     month  \n",
       "0       12  \n",
       "1        1  \n",
       "2        2  \n",
       "3        3  \n",
       "4        4  \n",
       "..     ...  \n",
       "679      7  \n",
       "680      8  \n",
       "681      9  \n",
       "682     10  \n",
       "683     11  \n",
       "\n",
       "[684 rows x 7 columns]"
      ]
     },
     "execution_count": 37,
     "metadata": {},
     "output_type": "execute_result"
    }
   ],
   "source": [
    "demanda_evolucion_df"
   ]
  },
  {
   "cell_type": "code",
   "execution_count": 38,
   "metadata": {},
   "outputs": [],
   "source": [
    "demanda_evolucion_df = demanda_evolucion_df[[\"year\",\"month\",\"value\",\"cod_ccaa\"]]"
   ]
  },
  {
   "cell_type": "code",
   "execution_count": 39,
   "metadata": {},
   "outputs": [
    {
     "data": {
      "text/plain": [
       "[(2018.0, 12.0, 17830.239, 8744.0),\n",
       " (2019.0, 1.0, 16019.527, 8744.0),\n",
       " (2019.0, 2.0, 16598.235, 8744.0),\n",
       " (2019.0, 3.0, 15221.094, 8744.0),\n",
       " (2019.0, 4.0, 16753.54, 8744.0)]"
      ]
     },
     "execution_count": 39,
     "metadata": {},
     "output_type": "execute_result"
    }
   ],
   "source": [
    "demanda_evolucion_tuple = [tuple(row) for _,row in demanda_evolucion_df.iterrows()]\n",
    "demanda_evolucion_tuple[:5]"
   ]
  },
  {
   "cell_type": "code",
   "execution_count": 40,
   "metadata": {},
   "outputs": [
    {
     "data": {
      "text/html": [
       "<div>\n",
       "<style scoped>\n",
       "    .dataframe tbody tr th:only-of-type {\n",
       "        vertical-align: middle;\n",
       "    }\n",
       "\n",
       "    .dataframe tbody tr th {\n",
       "        vertical-align: top;\n",
       "    }\n",
       "\n",
       "    .dataframe thead th {\n",
       "        text-align: right;\n",
       "    }\n",
       "</style>\n",
       "<table border=\"1\" class=\"dataframe\">\n",
       "  <thead>\n",
       "    <tr style=\"text-align: right;\">\n",
       "      <th></th>\n",
       "      <th>ccaa</th>\n",
       "      <th>cod_ccaa</th>\n",
       "    </tr>\n",
       "  </thead>\n",
       "  <tbody>\n",
       "    <tr>\n",
       "      <th>0</th>\n",
       "      <td>Melilla</td>\n",
       "      <td>8745</td>\n",
       "    </tr>\n",
       "    <tr>\n",
       "      <th>24</th>\n",
       "      <td>Andalucía</td>\n",
       "      <td>4</td>\n",
       "    </tr>\n",
       "    <tr>\n",
       "      <th>84</th>\n",
       "      <td>Aragón</td>\n",
       "      <td>5</td>\n",
       "    </tr>\n",
       "    <tr>\n",
       "      <th>132</th>\n",
       "      <td>Cantabria</td>\n",
       "      <td>6</td>\n",
       "    </tr>\n",
       "    <tr>\n",
       "      <th>192</th>\n",
       "      <td>Castilla - La Mancha</td>\n",
       "      <td>7</td>\n",
       "    </tr>\n",
       "    <tr>\n",
       "      <th>252</th>\n",
       "      <td>Castilla y León</td>\n",
       "      <td>8</td>\n",
       "    </tr>\n",
       "    <tr>\n",
       "      <th>300</th>\n",
       "      <td>Cataluña</td>\n",
       "      <td>9</td>\n",
       "    </tr>\n",
       "    <tr>\n",
       "      <th>372</th>\n",
       "      <td>País Vasco</td>\n",
       "      <td>10</td>\n",
       "    </tr>\n",
       "    <tr>\n",
       "      <th>432</th>\n",
       "      <td>Principado de Asturias</td>\n",
       "      <td>11</td>\n",
       "    </tr>\n",
       "    <tr>\n",
       "      <th>480</th>\n",
       "      <td>Comunidad de Madrid</td>\n",
       "      <td>13</td>\n",
       "    </tr>\n",
       "    <tr>\n",
       "      <th>528</th>\n",
       "      <td>Comunidad Foral de Navarra</td>\n",
       "      <td>14</td>\n",
       "    </tr>\n",
       "    <tr>\n",
       "      <th>576</th>\n",
       "      <td>Comunitat Valenciana</td>\n",
       "      <td>15</td>\n",
       "    </tr>\n",
       "    <tr>\n",
       "      <th>635</th>\n",
       "      <td>Extremadura</td>\n",
       "      <td>16</td>\n",
       "    </tr>\n",
       "    <tr>\n",
       "      <th>693</th>\n",
       "      <td>Galicia</td>\n",
       "      <td>17</td>\n",
       "    </tr>\n",
       "    <tr>\n",
       "      <th>753</th>\n",
       "      <td>Illes Balears</td>\n",
       "      <td>8743</td>\n",
       "    </tr>\n",
       "    <tr>\n",
       "      <th>801</th>\n",
       "      <td>Canarias</td>\n",
       "      <td>8742</td>\n",
       "    </tr>\n",
       "    <tr>\n",
       "      <th>861</th>\n",
       "      <td>Región de Murcia</td>\n",
       "      <td>21</td>\n",
       "    </tr>\n",
       "    <tr>\n",
       "      <th>921</th>\n",
       "      <td>La Rioja</td>\n",
       "      <td>20</td>\n",
       "    </tr>\n",
       "  </tbody>\n",
       "</table>\n",
       "</div>"
      ],
      "text/plain": [
       "                           ccaa  cod_ccaa\n",
       "0                       Melilla      8745\n",
       "24                    Andalucía         4\n",
       "84                       Aragón         5\n",
       "132                   Cantabria         6\n",
       "192        Castilla - La Mancha         7\n",
       "252             Castilla y León         8\n",
       "300                    Cataluña         9\n",
       "372                  País Vasco        10\n",
       "432      Principado de Asturias        11\n",
       "480         Comunidad de Madrid        13\n",
       "528  Comunidad Foral de Navarra        14\n",
       "576        Comunitat Valenciana        15\n",
       "635                 Extremadura        16\n",
       "693                     Galicia        17\n",
       "753               Illes Balears      8743\n",
       "801                    Canarias      8742\n",
       "861            Región de Murcia        21\n",
       "921                    La Rioja        20"
      ]
     },
     "execution_count": 40,
     "metadata": {},
     "output_type": "execute_result"
    }
   ],
   "source": [
    "ccaa"
   ]
  },
  {
   "cell_type": "code",
   "execution_count": null,
   "metadata": {},
   "outputs": [
    {
     "ename": "ForeignKeyViolation",
     "evalue": "inserción o actualización en la tabla «demanda_evolucion» viola la llave foránea «demanda_evolucion_ccaa_id_fkey»\nDETAIL:  La llave (ccaa_id)=(8744) no está presente en la tabla «ccaa».\n",
     "output_type": "error",
     "traceback": [
      "\u001b[1;31m---------------------------------------------------------------------------\u001b[0m",
      "\u001b[1;31mForeignKeyViolation\u001b[0m                       Traceback (most recent call last)",
      "Cell \u001b[1;32mIn[41], line 1\u001b[0m\n\u001b[1;32m----> 1\u001b[0m \u001b[43mcur\u001b[49m\u001b[38;5;241;43m.\u001b[39;49m\u001b[43mexecutemany\u001b[49m\u001b[43m(\u001b[49m\n\u001b[0;32m      2\u001b[0m \u001b[38;5;124;43m\"\u001b[39;49m\u001b[38;5;124;43mINSERT INTO demanda_Evolucion (year, month, value, ccaa_id) VALUES (\u001b[39;49m\u001b[38;5;132;43;01m%s\u001b[39;49;00m\u001b[38;5;124;43m,\u001b[39;49m\u001b[38;5;132;43;01m%s\u001b[39;49;00m\u001b[38;5;124;43m,\u001b[39;49m\u001b[38;5;132;43;01m%s\u001b[39;49;00m\u001b[38;5;124;43m,\u001b[39;49m\u001b[38;5;132;43;01m%s\u001b[39;49;00m\u001b[38;5;124;43m)\u001b[39;49m\u001b[38;5;124;43m\"\u001b[39;49m\u001b[43m,\u001b[49m\n\u001b[0;32m      3\u001b[0m \u001b[43mdemanda_evolucion_tuple\u001b[49m\n\u001b[0;32m      4\u001b[0m \u001b[43m)\u001b[49m\n",
      "\u001b[1;31mForeignKeyViolation\u001b[0m: inserción o actualización en la tabla «demanda_evolucion» viola la llave foránea «demanda_evolucion_ccaa_id_fkey»\nDETAIL:  La llave (ccaa_id)=(8744) no está presente en la tabla «ccaa».\n"
     ]
    }
   ],
   "source": [
    "cur.executemany(\n",
    "\"INSERT INTO demanda_evolucion (year, month, value, ccaa_id) VALUES (%s,%s,%s,%s)\",\n",
    "demanda_evolucion_tuple\n",
    ")"
   ]
  },
  {
   "cell_type": "markdown",
   "metadata": {},
   "source": [
    "Creating the ccaa tables, value for Ceuta was not added:"
   ]
  },
  {
   "cell_type": "code",
   "execution_count": 45,
   "metadata": {},
   "outputs": [],
   "source": [
    "cur.execute(\n",
    "\"INSERT INTO ccaa (ccaa,ccaa_id) VALUES (%s,%s)\",\n",
    "(\"Ceuta\",8744)\n",
    ")"
   ]
  },
  {
   "cell_type": "markdown",
   "metadata": {},
   "source": [
    "It should stop raising the ForeignKeyViolation now:"
   ]
  },
  {
   "cell_type": "code",
   "execution_count": 46,
   "metadata": {},
   "outputs": [],
   "source": [
    "cur.executemany(\n",
    "\"INSERT INTO demanda_evolucion (year, month, value, ccaa_id) VALUES (%s,%s,%s,%s)\",\n",
    "demanda_evolucion_tuple\n",
    ")"
   ]
  },
  {
   "cell_type": "code",
   "execution_count": null,
   "metadata": {},
   "outputs": [],
   "source": []
  },
  {
   "cell_type": "markdown",
   "metadata": {},
   "source": []
  }
 ],
 "metadata": {
  "kernelspec": {
   "display_name": "modulo5_hackio",
   "language": "python",
   "name": "modulo5_hackio"
  },
  "language_info": {
   "codemirror_mode": {
    "name": "ipython",
    "version": 3
   },
   "file_extension": ".py",
   "mimetype": "text/x-python",
   "name": "python",
   "nbconvert_exporter": "python",
   "pygments_lexer": "ipython3",
   "version": "3.11.0b4"
  }
 },
 "nbformat": 4,
 "nbformat_minor": 2
}
